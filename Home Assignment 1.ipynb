{
  "nbformat": 4,
  "nbformat_minor": 0,
  "metadata": {
    "colab": {
      "provenance": [],
      "authorship_tag": "ABX9TyMXDArDq6xO4qiCfRdYoeml",
      "include_colab_link": true
    },
    "kernelspec": {
      "name": "python3",
      "display_name": "Python 3"
    },
    "language_info": {
      "name": "python"
    }
  },
  "cells": [
    {
      "cell_type": "markdown",
      "metadata": {
        "id": "view-in-github",
        "colab_type": "text"
      },
      "source": [
        "<a href=\"https://colab.research.google.com/github/Sai0210/coursera-test/blob/main/Home%20Assignment%201.ipynb\" target=\"_parent\"><img src=\"https://colab.research.google.com/assets/colab-badge.svg\" alt=\"Open In Colab\"/></a>"
      ]
    },
    {
      "cell_type": "code",
      "execution_count": 3,
      "metadata": {
        "colab": {
          "base_uri": "https://localhost:8080/"
        },
        "id": "d4Qf59mbuf6t",
        "outputId": "09adc56d-b2d7-4349-cad1-31b1fb1a82bd"
      },
      "outputs": [
        {
          "output_type": "stream",
          "name": "stdout",
          "text": [
            "Original Tensor:\n",
            " tf.Tensor(\n",
            "[[0.7182822  0.9493952  0.4234841  0.6592581  0.89030755 0.39735246]\n",
            " [0.681473   0.42173934 0.93383455 0.54819477 0.61187434 0.22419024]\n",
            " [0.25465405 0.6130252  0.24769938 0.22671771 0.36988854 0.966812  ]\n",
            " [0.4246322  0.52510023 0.36550224 0.14199209 0.0083245  0.35588038]], shape=(4, 6), dtype=float32)\n",
            "Original Tensor Rank: 2\n",
            "Original Tensor Shape: [4 6]\n"
          ]
        }
      ],
      "source": [
        "import tensorflow as tf\n",
        "\n",
        "# Create a random tensor of shape (4, 6)\n",
        "tensor = tf.random.uniform((4, 6))\n",
        "print(\"Original Tensor:\\n\", tensor)\n",
        "\n",
        "# Find its rank and shape\n",
        "rank = tf.rank(tensor)\n",
        "shape = tf.shape(tensor)\n",
        "print(f\"Original Tensor Rank: {rank.numpy()}\")\n",
        "print(f\"Original Tensor Shape: {shape.numpy()}\")"
      ]
    },
    {
      "cell_type": "code",
      "source": [
        "# Reshape it into (2, 3, 4)\n",
        "reshaped_tensor = tf.reshape(tensor, (2, 3, 4))\n",
        "print(\"Reshaped Tensor:\\n\", reshaped_tensor)"
      ],
      "metadata": {
        "colab": {
          "base_uri": "https://localhost:8080/"
        },
        "id": "8rjUBdBGv6pZ",
        "outputId": "ae3e7c59-58c4-4bf8-c297-865fdf48163f"
      },
      "execution_count": 5,
      "outputs": [
        {
          "output_type": "stream",
          "name": "stdout",
          "text": [
            "Reshaped Tensor:\n",
            " tf.Tensor(\n",
            "[[[0.7182822  0.9493952  0.4234841  0.6592581 ]\n",
            "  [0.89030755 0.39735246 0.681473   0.42173934]\n",
            "  [0.93383455 0.54819477 0.61187434 0.22419024]]\n",
            "\n",
            " [[0.25465405 0.6130252  0.24769938 0.22671771]\n",
            "  [0.36988854 0.966812   0.4246322  0.52510023]\n",
            "  [0.36550224 0.14199209 0.0083245  0.35588038]]], shape=(2, 3, 4), dtype=float32)\n"
          ]
        }
      ]
    },
    {
      "cell_type": "code",
      "source": [
        "# Transpose it to (3, 2, 4)\n",
        "transposed_tensor = tf.transpose(reshaped_tensor, perm=[1, 0, 2])\n",
        "print(\"Transposed Tensor:\\n\", transposed_tensor)"
      ],
      "metadata": {
        "colab": {
          "base_uri": "https://localhost:8080/"
        },
        "id": "GhkVSTyMwM5Q",
        "outputId": "2474c298-07a7-4944-d593-81a0a630aeea"
      },
      "execution_count": 6,
      "outputs": [
        {
          "output_type": "stream",
          "name": "stdout",
          "text": [
            "Transposed Tensor:\n",
            " tf.Tensor(\n",
            "[[[0.7182822  0.9493952  0.4234841  0.6592581 ]\n",
            "  [0.25465405 0.6130252  0.24769938 0.22671771]]\n",
            "\n",
            " [[0.89030755 0.39735246 0.681473   0.42173934]\n",
            "  [0.36988854 0.966812   0.4246322  0.52510023]]\n",
            "\n",
            " [[0.93383455 0.54819477 0.61187434 0.22419024]\n",
            "  [0.36550224 0.14199209 0.0083245  0.35588038]]], shape=(3, 2, 4), dtype=float32)\n"
          ]
        }
      ]
    },
    {
      "cell_type": "code",
      "source": [
        "# Broadcast a smaller tensor (1, 4) to match the larger tensor and add them\n",
        "small_tensor = tf.random.uniform((1, 4))\n",
        "broadcasted_tensor = tf.broadcast_to(small_tensor, (3, 2, 4))\n",
        "print(\"Broadcasted Small Tensor:\\n\", broadcasted_tensor)"
      ],
      "metadata": {
        "colab": {
          "base_uri": "https://localhost:8080/"
        },
        "id": "RcIjrL-Cwcwa",
        "outputId": "87c0f884-2b58-4b6a-c897-b8c8530b233c"
      },
      "execution_count": 7,
      "outputs": [
        {
          "output_type": "stream",
          "name": "stdout",
          "text": [
            "Broadcasted Small Tensor:\n",
            " tf.Tensor(\n",
            "[[[0.20846748 0.79901206 0.5741701  0.15803778]\n",
            "  [0.20846748 0.79901206 0.5741701  0.15803778]]\n",
            "\n",
            " [[0.20846748 0.79901206 0.5741701  0.15803778]\n",
            "  [0.20846748 0.79901206 0.5741701  0.15803778]]\n",
            "\n",
            " [[0.20846748 0.79901206 0.5741701  0.15803778]\n",
            "  [0.20846748 0.79901206 0.5741701  0.15803778]]], shape=(3, 2, 4), dtype=float32)\n"
          ]
        }
      ]
    },
    {
      "cell_type": "code",
      "source": [
        "# Add the broadcasted tensor to the transposed tensor\n",
        "result_tensor = transposed_tensor + broadcasted_tensor\n",
        "print(\"Resulting Tensor after Addition:\\n\", result_tensor)"
      ],
      "metadata": {
        "colab": {
          "base_uri": "https://localhost:8080/"
        },
        "id": "PncHErdnwdgd",
        "outputId": "5a5eff1a-1dab-4ff5-afb4-d9578d9b9b6e"
      },
      "execution_count": 8,
      "outputs": [
        {
          "output_type": "stream",
          "name": "stdout",
          "text": [
            "Resulting Tensor after Addition:\n",
            " tf.Tensor(\n",
            "[[[0.9267497  1.7484072  0.9976542  0.8172959 ]\n",
            "  [0.46312153 1.4120373  0.8218695  0.3847555 ]]\n",
            "\n",
            " [[1.098775   1.1963645  1.2556431  0.5797771 ]\n",
            "  [0.578356   1.7658241  0.9988023  0.683138  ]]\n",
            "\n",
            " [[1.142302   1.3472068  1.1860445  0.38222802]\n",
            "  [0.5739697  0.94100416 0.5824946  0.51391816]]], shape=(3, 2, 4), dtype=float32)\n"
          ]
        }
      ]
    },
    {
      "cell_type": "code",
      "source": [],
      "metadata": {
        "id": "OYQ6TB_6whgd"
      },
      "execution_count": null,
      "outputs": []
    }
  ]
}